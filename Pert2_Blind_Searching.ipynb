{
  "nbformat": 4,
  "nbformat_minor": 0,
  "metadata": {
    "colab": {
      "provenance": []
    },
    "kernelspec": {
      "name": "python3",
      "display_name": "Python 3"
    },
    "language_info": {
      "name": "python"
    }
  },
  "cells": [
    {
      "cell_type": "markdown",
      "source": [
        "NIM : 2106132 Nama : Nadia Fitriani"
      ],
      "metadata": {
        "id": "2OfmLSxIuwqJ"
      }
    },
    {
      "cell_type": "markdown",
      "source": [
        "**Bread First Search (BFS)**"
      ],
      "metadata": {
        "id": "EQTYlMb_t0A6"
      }
    },
    {
      "cell_type": "code",
      "execution_count": 3,
      "metadata": {
        "id": "4Rr7FHtFiE-g"
      },
      "outputs": [],
      "source": [
        "def bfs(graph, source):\n",
        "  visited = set() \n",
        "  bfs_traversal = list()\n",
        "  queue = list()\n",
        "  queue.append(source)\n",
        "  visited.add(source)\n",
        "  while queue: \n",
        "    current_node = queue.pop(0)\n",
        "    bfs_traversal.append(current_node)\n",
        "    for neighbour_node in graph[current_node]:\n",
        "      if neighbour_node not in visited:\n",
        "        visited.add(neighbour_node)\n",
        "        queue.append(neighbour_node)\n",
        "        \n",
        "  return bfs_traversal "
      ]
    },
    {
      "cell_type": "code",
      "source": [
        "def main():\n",
        "    graph = {\n",
        "       'A': ['B', 'C'],\n",
        "       'B': ['A', 'D', 'E'],\n",
        "       'C': ['A', 'F', 'G'],\n",
        "       'D': ['B'],\n",
        "       'E': ['B'],\n",
        "       'F': ['C'],\n",
        "       'G': ['C']\n",
        "    }\n",
        "\n",
        "    bfs_traversal = bfs(graph, 'G')\n",
        "    print(f\"BFS: {bfs_traversal}\")\n",
        "\n",
        "\n",
        "main()"
      ],
      "metadata": {
        "colab": {
          "base_uri": "https://localhost:8080/"
        },
        "id": "sa_-8FFDjlIc",
        "outputId": "394f1f44-62bc-49ad-feb1-23cdfb41c239"
      },
      "execution_count": 11,
      "outputs": [
        {
          "output_type": "stream",
          "name": "stdout",
          "text": [
            "BFS: ['G', 'C', 'A', 'F', 'B', 'D', 'E']\n"
          ]
        }
      ]
    },
    {
      "cell_type": "markdown",
      "source": [
        "**Depth First Search (DFS)**\n"
      ],
      "metadata": {
        "id": "G8uuI9fEvARX"
      }
    },
    {
      "cell_type": "code",
      "source": [
        "def dfs(graph, source, visited, dfs_traversal): \n",
        "  if source not in visited: \n",
        "    dfs_traversal.append(source)\n",
        "    visited.add(source)\n",
        "\n",
        "    for neighbor_node in graph[source]:\n",
        "      dfs(graph, neighbor_node, visited, dfs_traversal)\n",
        "\n",
        "  return dfs_traversal\n",
        "\n"
      ],
      "metadata": {
        "id": "lBXA5OOql6es"
      },
      "execution_count": 12,
      "outputs": []
    },
    {
      "cell_type": "code",
      "source": [
        "def main():\n",
        "    visited = set()\n",
        "    dfs_traversal = list()\n",
        "\n",
        "    graph = {\n",
        "       'A': ['B', 'C'],\n",
        "       'B': ['D', 'E'],\n",
        "       'C': ['F', 'G'],\n",
        "       'D': [],\n",
        "       'E': [],\n",
        "       'F': [],\n",
        "       'G': []\n",
        "    }\n",
        "\n",
        "    print(f\"DFS: {dfs(graph, 'A', visited, dfs_traversal)}\")\n"
      ],
      "metadata": {
        "id": "YiPIxRDznHSg"
      },
      "execution_count": 13,
      "outputs": []
    },
    {
      "cell_type": "markdown",
      "source": [
        "**Uniform Cost Search (UCS)**"
      ],
      "metadata": {
        "id": "am6_AFVZuTcw"
      }
    },
    {
      "cell_type": "code",
      "source": [
        "def uniform_cost_search(goal, start):\n",
        "  global graph,cost \n",
        "  answer = []\n",
        "  queue = []\n",
        "  for i in range(len(goal)):\n",
        "    answer.append(10**8)\n",
        "  queue.append([0, start])\n",
        "  visited = {}\n",
        "  count = 0\n",
        "\n",
        "    # while the queue is not empty \n",
        "  while (len(queue) > 0):\n",
        "\n",
        "    #get the top element of the\n",
        "    queue = sorted(queue)\n",
        "    p=queue[-1]\n",
        "\n",
        "    #pop the element \n",
        "    del queue[-1]\n",
        "\n",
        "    #get the original value\n",
        "    p[0] *= -1\n",
        "\n",
        "    #check if the element is part of\n",
        "    #the goal list\n",
        "    if (p[1] in goal):\n",
        "\n",
        "      #get the position \n",
        "      index = goal.index(p[1])\n",
        "\n",
        "      #if a new goal is reached\n",
        "      if (answer[index] == 10**8):\n",
        "        count += 1\n",
        "      \n",
        "      #if the cost is less \n",
        "      if (answer[index] > p[0]):\n",
        "        answer[index] = p[0]\n",
        "\n",
        "      #pop the element\n",
        "      del queue[-1]\n",
        "\n",
        "      queue = sorted(queue)\n",
        "      if (count == len(goal)):\n",
        "        return answer"
      ],
      "metadata": {
        "id": "Ck5UG2YvpG20"
      },
      "execution_count": 20,
      "outputs": []
    },
    {
      "cell_type": "code",
      "source": [
        " if (p[1] not in visited):\n",
        "   for i in range(len(graph[p[1]])):\n",
        "     queue.append( [(p[0] + cost[(p[1], graph[p[1]][i])])* -1, graph[p[1]][i]])\n",
        " visited[p[1]] = 1\n",
        "\n",
        "return answer"
      ],
      "metadata": {
        "id": "SAIcQo8Fr11v"
      },
      "execution_count": null,
      "outputs": []
    },
    {
      "cell_type": "code",
      "source": [
        "#create the graph \n",
        "graph,cost = [[] for i in range(8)],{}\n",
        "\n",
        "#add edge\n",
        "graph[0].append(1)\n",
        "graph[0].append(3)\n",
        "graph[3].append(1)\n",
        "graph[3].append(6)\n",
        "graph[3].append(4)\n",
        "graph[1].append(6)\n",
        "graph[4].append(2)\n",
        "graph[4].append(5)\n",
        "graph[2].append(1)\n",
        "graph[5].append(2)\n",
        "graph[5].append(6)\n",
        "graph[6].append(4)"
      ],
      "metadata": {
        "id": "k-bPujK40mCw"
      },
      "execution_count": 21,
      "outputs": []
    },
    {
      "cell_type": "code",
      "source": [
        "# add the cost \n",
        "cost[(0, 1)] = 2\n",
        "cost[(0, 3)] = 5\n",
        "cost[(1, 6)] = 1\n",
        "cost[(3, 1)] = 5\n",
        "cost[(3, 6)] = 6\n",
        "cost[(3, 4)] = 2\n",
        "cost[(2, 1)] = 4\n",
        "cost[(4, 2)] = 4\n",
        "cost[(4, 5)] = 3\n",
        "cost[(5, 2)] = 6\n",
        "cost[(5, 6)] = 3\n",
        "cost[(6, 4)] = 7"
      ],
      "metadata": {
        "id": "ZftLFjsr1x4m"
      },
      "execution_count": 25,
      "outputs": []
    },
    {
      "cell_type": "code",
      "source": [
        "# goal state \n",
        "goal = []\n",
        "\n",
        "#set the goal\n",
        "#there can be multiple goal state \n",
        "goal.append(6)\n",
        "\n",
        "#get the answer\n",
        "answer = uniform_cost_search(goal, 0)\n",
        "\n",
        "#print the answer\n",
        "print(\"Minimum cost from 0 to 6 is = \",answer[0])"
      ],
      "metadata": {
        "id": "9oiuQXc8sFkn"
      },
      "execution_count": null,
      "outputs": []
    },
    {
      "cell_type": "markdown",
      "source": [
        "**Itterative Deepening Depth First Search**"
      ],
      "metadata": {
        "id": "qLvSt7Wy3TB-"
      }
    },
    {
      "cell_type": "code",
      "source": [
        "# python program to print DFS traversal from a given\n",
        "# given graph\n",
        "from collections import defaultdict\n",
        "\n",
        "# This class represents a directed graph using adjacency\n",
        "# list representation\n",
        "class Graph:\n",
        "\n",
        "  def __init__(self,vertices):\n",
        "\n",
        "    # No. of vertices\n",
        "    self.V = vertices\n",
        "\n",
        "    # default dictionary to store graph\n",
        "    self.graph = defaultdict(list)\n",
        "\n",
        "  # function to add an edge to graph\n",
        "  def addEdge(self,u,v):\n",
        "    self.graph[u].append(v)\n",
        "  \n",
        "  # A function to perform a Depth-Limited search\n",
        "  # from given source src\n",
        "  def DLS(self,src,target,maxDepth):\n",
        "\n",
        "    if src == target : return True\n",
        "\n",
        "    # If reached the maximum depth, stop recursing.\n",
        "    if maxDepth <= 0 : return False\n",
        "\n",
        "    # Recur for all the vertices adjacent to this vertex\n",
        "    for i in self.graph[src]:\n",
        "      if(self.DLS(i,target,maxDepth-1)):\n",
        "        return True\n",
        "    return False\n",
        "\n",
        "  # IDDFS to search if target is reachable form v.\n",
        "  # It uses recursive DLS()\n",
        "  def IDDFS(self ,src, target, maxDepth):\n",
        "\n",
        "    # Repeatedly depth-limit search till the\n",
        "    # maximum depth\n",
        "    for i in range(maxDepth):\n",
        "      if (self.DLS(src, target, i)):\n",
        "        return True\n",
        "    return False\n"
      ],
      "metadata": {
        "id": "pL5fUzHH3aqY"
      },
      "execution_count": 29,
      "outputs": []
    },
    {
      "cell_type": "code",
      "source": [
        "# create a graph given in the above diagram\n",
        "g = Graph (7);\n",
        "g.addEDge(0, 1)\n",
        "g.addEdge(0, 2)\n",
        "g.addEdge(0, 4)\n",
        "g.addEdge(1, 3)\n",
        "g.addEdge(1, 5)\n",
        "g.addEdge(2, 6)\n",
        "\n",
        "target = 6; maxDepth = 3; src = 0\n",
        "\n",
        "if g.IDDFS(src, target, maxDepth) == True:\n",
        "  print (\"Target is reachable from source \" + \"within max depth\")\n",
        "else : \n",
        "  print (\"Target is NOT reachable from source \" + \"within max depth\")\n",
        " "
      ],
      "metadata": {
        "id": "Dj8_J6WrsRjV"
      },
      "execution_count": null,
      "outputs": []
    },
    {
      "cell_type": "markdown",
      "source": [
        "**Birectional Search**"
      ],
      "metadata": {
        "id": "kZhndDng80H0"
      }
    },
    {
      "cell_type": "code",
      "source": [
        "class AdjacentNode:\n",
        "\n",
        "  def __init__(self, vertex):\n",
        "\n",
        "    self.vertex = vertex\n",
        "    self.next = None\n",
        "\n",
        "class BidirectionalSerach:\n",
        "\n",
        "  def __init__(self, vertices):\n",
        "    \n",
        "    self.vertices = vertices\n",
        "    self.graph = [None] * self.vertices\n",
        "\n",
        "    self.src_queue = list()\n",
        "    self.dest_queue = list()\n",
        "\n",
        "    self.src_visited = [False] * self.vertives\n",
        "    self.dest_visited = [False] * self.vertices\n",
        "\n",
        "    self.src_parent = [None] * self.vertices\n",
        "    self.dest_parent = [None] * self.vertices\n",
        "  \n",
        "  def add_edge(self, src, dest):\n",
        "\n",
        "    node = AdjacentNode(dest)\n",
        "    node.next = self.graph[src]\n",
        "    self.graph[src] = node\n",
        "\n",
        "    node = AdjacentNode(src)\n",
        "    node.next = self.graph[dest]\n",
        "    self.graph[dest] = node\n",
        "\n"
      ],
      "metadata": {
        "id": "ApCvPJ5_85pr"
      },
      "execution_count": 35,
      "outputs": []
    },
    {
      "cell_type": "code",
      "source": [
        "def bfs(self, direction = 'forward'):\n",
        "\n",
        "  if direction == 'forward':\n",
        "\n",
        "    current = self.src_queue.pop(0)\n",
        "    connected_node = self.graph[current]\n",
        "\n",
        "    while connected_node:\n",
        "      vertex = connected_node.vertex\n",
        "\n",
        "      if not self.src_visited[vertex]:\n",
        "        self.src_queue.append(vertex)\n",
        "        self.src_visited[vertex] = True\n",
        "        self.src_parent[vertex] = current\n",
        "\n",
        "      connected_node = connected_node.next\n",
        "   else:\n",
        "\n",
        "     current = self.dest_queue.pop(0)\n",
        "     connected_node = self.graph[current]\n",
        "     while connected_node:\n",
        "       vertex = connected_node.vertex\n",
        "\n",
        "       if not self.dest_visited[vertex]:\n",
        "         self.dest_queue.append(vertex)\n",
        "         self.dest_visited[vertex] = True\n",
        "         self.dest_parent[vertex] = current\n",
        "\n",
        "       connected_node = connected_node.next\n",
        "\n",
        "def is_intersecting(self):\n",
        "  for i in range(self.vertices):\n",
        "    if (self.src_visited[i] and self.dest_visited[i]):\n",
        "      return i\n",
        "\n",
        "  return -1"
      ],
      "metadata": {
        "id": "-usqVEImspLx"
      },
      "execution_count": null,
      "outputs": []
    },
    {
      "cell_type": "code",
      "source": [
        "def print_path(self, intersecting_node, src, dest):\n",
        "\n",
        "  path = list()\n",
        "  path.append(intersecting_node)\n",
        "  i = intersecting_node\n",
        "\n",
        "  while i != src:\n",
        "    path.append(self.src_parent[i])\n",
        "    i = self.arc_parent[i]\n",
        "\n",
        "  path = path[::-1]\n",
        "  i = intersecting_node\n",
        "\n",
        "  while i != dest:\n",
        "    path.append(self.dest_parent[i])\n",
        "    i = self.dest_parent[i]\n",
        "\n",
        "  print(\"*****path*****\")\n",
        "  path = list(map(str, path))\n",
        "\n",
        "  print(' ',join(path))\n",
        "\n",
        "def bidirectional_search(self, src, dest):\n",
        "  self.src_queue.append(src)\n",
        "  self.src_visited[src] = True\n",
        "  self.src_parent[src] = -1\n",
        "\n",
        "  self.dest_queue.append(dest)\n",
        "  self.dest_visited[dest] = True\n",
        "  self.dest_parent[dest] = -1\n",
        "\n",
        "  while self.src_queue and self.dest_queue:\n",
        "    self.bfs(direction = 'forward')\n",
        "    self.bfs(direction = 'backward')\n",
        "\n",
        "    intersecting_node = self.is_intersecting()\n",
        "   \n",
        "    if intersecting_node != -1:\n",
        "      print(f\"path exists between {src} and {dest}\")\n",
        "      print(f\"Intersection at : {intersecting_node}\")\n",
        "      self.print_path(intersecting_node, src, dest)\n",
        "      exit(0)\n",
        "  return -1\n",
        "  \n",
        "  "
      ],
      "metadata": {
        "id": "xauaWXRvlS0X"
      },
      "execution_count": 9,
      "outputs": []
    },
    {
      "cell_type": "code",
      "source": [
        "n = 15\n",
        "src = 0\n",
        "dest = 6\n",
        "\n",
        "graph = BidirectionalSearch(n)\n",
        "graph.add_edge(0, 4)\n",
        "graph.add_edge(1, 4)\n",
        "graph.add_edge(2, 5)\n",
        "graph.add_edge(3, 5)\n",
        "graph.add_edge(4, 6)\n",
        "graph.add_edge(5, 6)\n",
        "graph.add_edge(6, 7)\n",
        "graph.add_edge(7, 8)\n",
        "graph.add_edge(8, 9)\n",
        "graph.add_edge(8, 10)\n",
        "graph.add_edge(9, 11)\n",
        "graph.add_edge(9, 12)\n",
        "graph.add_edge(10, 13)\n",
        "graph.add_edge(10, 14)\n",
        "\n",
        "out = graph.bidirectional_search(src, dest)\n",
        "\n",
        "if out == -1:\n",
        "  print(f\"Path does not exist between {src} and {dest}\")\n",
        "\n"
      ],
      "metadata": {
        "id": "iWFbephhrU2_"
      },
      "execution_count": null,
      "outputs": []
    }
  ]
}